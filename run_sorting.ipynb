{
 "cells": [
  {
   "cell_type": "markdown",
   "id": "13747ffa",
   "metadata": {},
   "source": [
    "### setup"
   ]
  },
  {
   "cell_type": "code",
   "execution_count": null,
   "id": "c809643e",
   "metadata": {},
   "outputs": [],
   "source": [
    "import numpy as np\n",
    "import pandas as pd\n",
    "import spikeinterface as si\n",
    "from matplotlib import pyplot as plt\n",
    "from probeinterface import get_probe, Probe\n",
    "from spikeinterface import comparison, extractors, sorters, widgets"
   ]
  },
  {
   "cell_type": "code",
   "execution_count": null,
   "id": "63969498",
   "metadata": {
    "scrolled": true
   },
   "outputs": [],
   "source": [
    "recording = si.load_extractor(\"data/prepared/subject_1/2020-08-22/\")\n",
    "recording_sub = recording.channel_slice([\"64\", \"65\", \"66\", \"67\", \"68\", \"69\"])"
   ]
  },
  {
   "cell_type": "markdown",
   "id": "33c90709",
   "metadata": {},
   "source": [
    "### run sorting with the selected sorters"
   ]
  },
  {
   "cell_type": "code",
   "execution_count": null,
   "id": "36b47447",
   "metadata": {
    "scrolled": true
   },
   "outputs": [],
   "source": [
    "sorting_ms4 = sorters.run_mountainsort4(\n",
    "    recording_sub,\n",
    "    output_folder=\"data/sorted/mountainsort4\",\n",
    "    verbose=True,\n",
    "    filter=False,\n",
    "    num_workers=4,\n",
    ")"
   ]
  },
  {
   "cell_type": "code",
   "execution_count": null,
   "id": "009223d9",
   "metadata": {
    "scrolled": true
   },
   "outputs": [],
   "source": [
    "sorting_wc = sorters.run_waveclus(\n",
    "    recording_sub,\n",
    "    docker_image=\"spikeinterface/waveclus-compiled-base:latest\",\n",
    "    output_folder=\"data/sorted/waveclus\",\n",
    "    verbose=True,\n",
    ")"
   ]
  },
  {
   "cell_type": "markdown",
   "id": "944e1e98",
   "metadata": {},
   "source": [
    "### compare sorting results"
   ]
  },
  {
   "cell_type": "code",
   "execution_count": null,
   "id": "44b3bf83",
   "metadata": {},
   "outputs": [],
   "source": [
    "sorting_ms4 = sorters.read_sorter_folder(\"data/sorted/mountainsort4/\")\n",
    "sorting_wc = sorters.read_sorter_folder(\"data/sorted/waveclus/\")"
   ]
  },
  {
   "cell_type": "code",
   "execution_count": null,
   "id": "f571ad86",
   "metadata": {},
   "outputs": [],
   "source": [
    "multicomp = comparison.compare_multiple_sorters(\n",
    "    [sorting_ms4, sorting_wc],\n",
    "    name_list=[\"mountainsort4\", \"waveclus\"],\n",
    "    delta_time=0.5,\n",
    "    match_score=0.5,\n",
    ")"
   ]
  },
  {
   "cell_type": "code",
   "execution_count": null,
   "id": "21409586",
   "metadata": {},
   "outputs": [],
   "source": [
    "agreement_sorting = multicomp.get_agreement_sorting(minimum_agreement_count=2)\n",
    "[\n",
    "    len(agreement_sorting.get_unit_spike_train(unit))\n",
    "    for unit in agreement_sorting.get_unit_ids()\n",
    "]"
   ]
  },
  {
   "cell_type": "code",
   "execution_count": null,
   "id": "26e229f3",
   "metadata": {
    "scrolled": true
   },
   "outputs": [],
   "source": [
    "fig = plt.figure(figsize=(20, 20))\n",
    "widgets.plot_agreement_matrix(\n",
    "    multicomp.comparisons[(\"mountainsort4\", \"waveclus\")], figure=fig\n",
    ")\n",
    "plt.show()"
   ]
  },
  {
   "cell_type": "markdown",
   "id": "5c25b75f",
   "metadata": {},
   "source": [
    "### extract waveforms"
   ]
  },
  {
   "cell_type": "code",
   "execution_count": null,
   "id": "7130bf1c",
   "metadata": {
    "scrolled": true
   },
   "outputs": [],
   "source": [
    "n = recording_sub.get_num_channels()\n",
    "positions = np.zeros(shape=(n, 2))\n",
    "probe = Probe()\n",
    "probe.set_contacts(positions=positions, shapes=\"circle\", shape_params=dict(radius=5))\n",
    "probe.set_device_channel_indices(np.arange(n))\n",
    "rec_w_probe = recording_sub.set_probe(probe)"
   ]
  },
  {
   "cell_type": "code",
   "execution_count": null,
   "id": "2fad2c9d",
   "metadata": {},
   "outputs": [],
   "source": [
    "waveforms_agreement = si.extract_waveforms(\n",
    "    rec_w_probe,\n",
    "    agreement_sorting,\n",
    "    folder=f\"data/waveforms/agreement\",\n",
    "    max_spikes_per_unit=None,\n",
    ")"
   ]
  },
  {
   "cell_type": "code",
   "execution_count": null,
   "id": "3f0072a1",
   "metadata": {
    "scrolled": false
   },
   "outputs": [],
   "source": [
    "fig = plt.figure(figsize=(30, 5))\n",
    "fig.tight_layout()\n",
    "widgets.plot_unit_waveforms(\n",
    "    waveforms_agreement,\n",
    "    figure=fig,\n",
    "    ncols=6,\n",
    ")\n",
    "plt.show()"
   ]
  },
  {
   "cell_type": "code",
   "execution_count": null,
   "id": "54b4800a",
   "metadata": {},
   "outputs": [],
   "source": []
  }
 ],
 "metadata": {
  "kernelspec": {
   "display_name": "research",
   "language": "python",
   "name": "research"
  },
  "language_info": {
   "codemirror_mode": {
    "name": "ipython",
    "version": 3
   },
   "file_extension": ".py",
   "mimetype": "text/x-python",
   "name": "python",
   "nbconvert_exporter": "python",
   "pygments_lexer": "ipython3",
   "version": "3.10.8"
  }
 },
 "nbformat": 4,
 "nbformat_minor": 5
}
