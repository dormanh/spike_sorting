{
 "cells": [
  {
   "cell_type": "markdown",
   "id": "17bbd38e",
   "metadata": {},
   "source": [
    "### setup"
   ]
  },
  {
   "cell_type": "code",
   "execution_count": 4,
   "id": "07577741",
   "metadata": {},
   "outputs": [
    {
     "name": "stdout",
     "output_type": "stream",
     "text": [
      "SpikeInterface version: 0.96.1\n"
     ]
    }
   ],
   "source": [
    "import warnings\n",
    "from itertools import combinations\n",
    "from pathlib import Path\n",
    "from tqdm.notebook import tqdm\n",
    "\n",
    "import numpy as np\n",
    "import pandas as pd\n",
    "import probeinterface\n",
    "import spikeinterface as si\n",
    "\n",
    "from matplotlib import pyplot as plt\n",
    "from probeinterface import get_probe, Probe\n",
    "from probeinterface.plotting import plot_probe\n",
    "from spikeinterface import (\n",
    "    BinaryFolderRecording,\n",
    "    comparison,\n",
    "    concatenate_recordings,\n",
    "    exporters,\n",
    "    extractors,\n",
    "    postprocessing,\n",
    "    preprocessing,\n",
    "    sorters,\n",
    "    qualitymetrics,\n",
    "    widgets,\n",
    ")\n",
    "\n",
    "\n",
    "print(f\"SpikeInterface version: {si.__version__}\")\n",
    "\n",
    "warnings.simplefilter(\"ignore\")\n",
    "%matplotlib inline\n",
    "%matplotlib widget"
   ]
  },
  {
   "cell_type": "markdown",
   "id": "8a6b6da6",
   "metadata": {},
   "source": [
    "### load recording"
   ]
  },
  {
   "cell_type": "code",
   "execution_count": 6,
   "id": "7bc4ad10",
   "metadata": {
    "scrolled": true
   },
   "outputs": [
    {
     "name": "stdout",
     "output_type": "stream",
     "text": [
      "Recording loaded\n",
      "Sampling frequency: 32000.0 Hz\n",
      "Number of channels: 16\n",
      "Total duration: 1877.83 seconds\n"
     ]
    }
   ],
   "source": [
    "def prepare_recording(\n",
    "    subject_id: str = \"subject_1\",\n",
    "    trial_id: str = \"2020-08-22\",\n",
    "    take_slice: bool = False,\n",
    "    slice_size: int = 300,\n",
    "    verbose: bool = True,\n",
    ") -> BinaryFolderRecording:\n",
    "    \"\"\"loads the neural recording of the given trial, concatenates its segments\n",
    "    into one joint object, then exports and loads the it in a sorting-ready format\"\"\"\n",
    "    import_path = f\"data/raw/{subject_id}/{trial_id}/\"\n",
    "    segmented_recording = extractors.read_neuralynx(import_path, stream_id=\"0\")\n",
    "    joint_recording = concatenate_recordings(\n",
    "        list(\n",
    "            map(\n",
    "                segmented_recording.select_segments,\n",
    "                range(segmented_recording.get_num_segments()),\n",
    "            )\n",
    "        )\n",
    "    )\n",
    "    fs = joint_recording.get_sampling_frequency()\n",
    "    if verbose:\n",
    "        nch = joint_recording.get_num_channels()\n",
    "        dur = joint_recording.get_total_duration()\n",
    "        print(\n",
    "            \"\\n\".join(\n",
    "                (\n",
    "                    \"Recording loaded\",\n",
    "                    f\"Sampling frequency: {fs} Hz\",\n",
    "                    f\"Number of channels: {nch}\",\n",
    "                    f\"Total duration: {dur:.2f} seconds\",\n",
    "                )\n",
    "            )\n",
    "        )\n",
    "\n",
    "    recording_slice = (\n",
    "        joint_recording.frame_slice(\n",
    "            start_frame=0 * fs,\n",
    "            end_frame=slice_size * fs,\n",
    "        )\n",
    "        if take_slice\n",
    "        else joint_recording\n",
    "    )\n",
    "    recording_slice.annotate(is_filtered=True)\n",
    "    export_path = import_path.replace(\"raw\", \"slices\" if take_slice else \"prepared\")\n",
    "    recording_saved = recording_slice.save(folder=export_path, verbose=False)\n",
    "    recording_loaded = si.load_extractor(export_path)\n",
    "    return recording_loaded\n",
    "\n",
    "\n",
    "recording = prepare_recording()\n",
    "# recording = prepare_recording(take_slice=True)"
   ]
  },
  {
   "cell_type": "markdown",
   "id": "05c176d4",
   "metadata": {},
   "source": [
    "### visualize recording"
   ]
  },
  {
   "cell_type": "code",
   "execution_count": null,
   "id": "10e970b7",
   "metadata": {
    "scrolled": false
   },
   "outputs": [],
   "source": [
    "raw_plot = widgets.plot_timeseries(recording, backend=\"ipywidgets\")"
   ]
  },
  {
   "cell_type": "markdown",
   "id": "a8b9f8ac",
   "metadata": {},
   "source": [
    "### add fake probe"
   ]
  },
  {
   "cell_type": "code",
   "execution_count": null,
   "id": "924116ef",
   "metadata": {},
   "outputs": [],
   "source": [
    "def compute_min_dist(positions: np.ndarray) -> float:\n",
    "    \"\"\"computes the minimal distance between any two channels on the given probe\"\"\"\n",
    "    channel_pairs = combinations(positions, 2)\n",
    "    channel_distances = np.linalg.norm([p1 - p2 for p1, p2 in channel_pairs], axis=1)\n",
    "    return channel_distances.min()\n",
    "\n",
    "\n",
    "positions = np.random.uniform(low=0, high=100, size=(16, 2))\n",
    "while not compute_min_dist(positions) >= 10:\n",
    "    positions = np.random.uniform(low=0, high=100, size=(16, 2))\n",
    "\n",
    "probe = Probe()\n",
    "probe.set_contacts(positions=positions, shapes=\"circle\", shape_params=dict(radius=5))\n",
    "probe.set_device_channel_indices(np.arange(recording.get_num_channels()))\n",
    "rec_w_probe = recording.set_probe(probe)\n",
    "\n",
    "%matplotlib inline\n",
    "plot_probe(probe)\n",
    "plt.show()"
   ]
  },
  {
   "cell_type": "markdown",
   "id": "1babd1d6",
   "metadata": {},
   "source": [
    "### run sorters"
   ]
  },
  {
   "cell_type": "code",
   "execution_count": null,
   "id": "d4a9d909",
   "metadata": {
    "scrolled": false
   },
   "outputs": [],
   "source": [
    "docker_dict = dict(\n",
    "    # combinato=\"spikeinterface/combinato-base:latest\", # single channel\n",
    "    # hdsort=\"spikeinterface/hdsort-compiled-base:latest\", # kills kernel\n",
    "    herdingspikes=\"spikeinterface/herdingspikes-base:latest\",\n",
    "    ironclust=\"spikeinterface/ironclust-compiled-base:latest\",\n",
    "    # kilosort=\"spikeinterface/kilosort-compiled-base:latest\", # requires GPU\n",
    "    # kilosort2=\"spikeinterface/kilosort2-compiled-base:latest\", # requires GPU\n",
    "    # kilosort2_5=\"spikeinterface/kilosort2_5-compiled-base:latest\", # requires GPU\n",
    "    # klusta=\"spikeinterface/klusta-base:latest\", # error in docker image\n",
    "    mountainsort4=\"spikeinterface/mountainsort4-base:latest\",\n",
    "    # pykilosort=\"spikeinterface/pykilosort-base:latest\", # requires GPU\n",
    "    spykingcircus=\"spikeinterface/spyking-circus-base:latest\",\n",
    "    tridesclous=\"spikeinterface/tridesclous-base:latest\",\n",
    "    waveclus=\"spikeinterface/waveclus-compiled-base:latest\",\n",
    "    # yass=\"spikeinterface/yass-base:latest\", # requires GPU\n",
    ")\n",
    "\n",
    "sorting_dict = dict()\n",
    "\n",
    "param_dict = {\n",
    "    sorter: sorters.get_default_sorter_params(sorter)\n",
    "    for sorter in sorters.available_sorters()\n",
    "}\n",
    "\n",
    "for sorter, image in tqdm(docker_dict.items()):\n",
    "    try:\n",
    "        filter_kwarg = dict(filter=False) if \"filter\" in param_dict[sorter] else dict()\n",
    "        sorting_dict[sorter] = sorters.run_sorter(\n",
    "            sorter,\n",
    "            rec_w_probe,\n",
    "            docker_image=image,\n",
    "            output_folder=f\"data/sorted/{sorter}\",\n",
    "            **filter_kwarg,\n",
    "        )\n",
    "        print(f\"Sorting with {sorter} completed successfully.\\n\\n\")\n",
    "    except Exception as e:\n",
    "        print(f\"Sorting with {sorter} failed due to the following exception: {e}\\n\\n\")"
   ]
  },
  {
   "cell_type": "markdown",
   "id": "8a96897c",
   "metadata": {},
   "source": [
    "### extract spike times and waveforms"
   ]
  },
  {
   "cell_type": "code",
   "execution_count": null,
   "id": "81891452",
   "metadata": {
    "scrolled": true
   },
   "outputs": [],
   "source": [
    "all_spikes = pd.concat(\n",
    "    [\n",
    "        pd.DataFrame(sorting.get_unit_spike_train(n), columns=[\"times\"]).assign(\n",
    "            unit=n, sorter=sorter\n",
    "        )\n",
    "        for sorter, sorting in sorting_dict.items()\n",
    "        for n in sorting.get_unit_ids()\n",
    "    ]\n",
    ")\n",
    "\n",
    "waveform_dict = {\n",
    "    sorter: si.extract_waveforms(\n",
    "        rec_w_probe,\n",
    "        sorting,\n",
    "        folder=f\"data/waveforms/{sorter}\",\n",
    "        max_spikes_per_unit=None,\n",
    "    )\n",
    "    for sorter, sorting in sorting_dict.items()\n",
    "}\n",
    "\n",
    "%matplotlib inline\n",
    "widgets.plot_unit_templates(waveform_dict[\"waveclus\"], radius_um=30)\n",
    "plt.show()"
   ]
  },
  {
   "cell_type": "markdown",
   "id": "c46c97a7",
   "metadata": {},
   "source": [
    "### compare sorters"
   ]
  },
  {
   "cell_type": "code",
   "execution_count": null,
   "id": "564665ac",
   "metadata": {
    "scrolled": true
   },
   "outputs": [],
   "source": [
    "all_sorter_pairs = list(combinations(sorting_dict.keys(), 2))\n",
    "\n",
    "comparisons = [\n",
    "    comparison.compare_two_sorters(\n",
    "        sorting_dict[s1],\n",
    "        sorting_dict[s2],\n",
    "        sorting1_name=s1,\n",
    "        sorting2_name=s2,\n",
    "    )\n",
    "    for s1, s2 in tqdm(all_sorter_pairs)\n",
    "]\n",
    "\n",
    "comparison_multi = comparison.compare_multiple_sorters(\n",
    "    list(sorting_dict.values()), name_list=list(sorting_dict.keys())\n",
    ")\n",
    "\n",
    "%matplotlib inline\n",
    "multicomp_graph = widgets.plot_multicomp_graph(comparison_multi, colorbar=True)"
   ]
  },
  {
   "cell_type": "markdown",
   "id": "46357795",
   "metadata": {},
   "source": [
    "### select units based on consensus"
   ]
  },
  {
   "cell_type": "code",
   "execution_count": null,
   "id": "639a9e49",
   "metadata": {
    "scrolled": true
   },
   "outputs": [],
   "source": [
    "agreement_sorting = comparison_multi.get_agreement_sorting(minimum_agreement_count=2)\n",
    "agreement_sorting"
   ]
  },
  {
   "cell_type": "code",
   "execution_count": null,
   "id": "4352daee",
   "metadata": {},
   "outputs": [],
   "source": []
  }
 ],
 "metadata": {
  "kernelspec": {
   "display_name": "research",
   "language": "python",
   "name": "research"
  },
  "language_info": {
   "codemirror_mode": {
    "name": "ipython",
    "version": 3
   },
   "file_extension": ".py",
   "mimetype": "text/x-python",
   "name": "python",
   "nbconvert_exporter": "python",
   "pygments_lexer": "ipython3",
   "version": "3.10.8"
  }
 },
 "nbformat": 4,
 "nbformat_minor": 5
}
