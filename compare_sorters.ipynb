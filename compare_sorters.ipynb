{
 "cells": [
  {
   "cell_type": "markdown",
   "id": "17bbd38e",
   "metadata": {},
   "source": [
    "### setup"
   ]
  },
  {
   "cell_type": "code",
   "execution_count": null,
   "id": "07577741",
   "metadata": {},
   "outputs": [],
   "source": [
    "import warnings\n",
    "from itertools import product\n",
    "from pathlib import Path\n",
    "from tqdm.notebook import tqdm\n",
    "\n",
    "import numpy as np\n",
    "import probeinterface\n",
    "import spikeinterface as si\n",
    "\n",
    "from matplotlib import pyplot as plt\n",
    "from probeinterface import get_probe, Probe\n",
    "from probeinterface.plotting import plot_probe\n",
    "from spikeinterface import (\n",
    "    ConcatenateSegmentRecording,\n",
    "    comparison,\n",
    "    concatenate_recordings,\n",
    "    exporters,\n",
    "    extractors,\n",
    "    postprocessing,\n",
    "    preprocessing,\n",
    "    sorters,\n",
    "    qualitymetrics,\n",
    "    widgets,\n",
    ")\n",
    "\n",
    "\n",
    "print(f\"SpikeInterface version: {si.__version__}\")\n",
    "\n",
    "warnings.simplefilter(\"ignore\")\n",
    "%matplotlib inline\n",
    "%matplotlib widget"
   ]
  },
  {
   "cell_type": "markdown",
   "id": "8a6b6da6",
   "metadata": {},
   "source": [
    "### load recording"
   ]
  },
  {
   "cell_type": "code",
   "execution_count": null,
   "id": "e4535538",
   "metadata": {
    "scrolled": true
   },
   "outputs": [],
   "source": [
    "def load_and_join_recording(\n",
    "    subject_id: str = \"subject_1\",\n",
    "    trial_id: str = \"2020-08-22\",\n",
    "    verbose: bool = True,\n",
    ") -> ConcatenateSegmentRecording:\n",
    "    \"\"\"loads the neural recording of the given trial\n",
    "    and concatenates its segments into one joint object\"\"\"\n",
    "    segmented_recording = extractors.read_neuralynx(\n",
    "        f\"data/raw/{subject_id}/{trial_id}/\", stream_id=\"0\"\n",
    "    )\n",
    "    joint_recording = concatenate_recordings(\n",
    "        list(\n",
    "            map(\n",
    "                segmented_recording.select_segments,\n",
    "                range(segmented_recording.get_num_segments()),\n",
    "            )\n",
    "        )\n",
    "    )\n",
    "    if verbose:\n",
    "        nch = joint_recording.get_num_channels()\n",
    "        dur = joint_recording.get_total_duration()\n",
    "        print(\n",
    "            f\"Recording loaded.\\nNumber of channels: {nch}\\nTotal duration: {dur:.2f} seconds\"\n",
    "        )\n",
    "    return joint_recording\n",
    "\n",
    "\n",
    "recording = load_and_join_recording()"
   ]
  },
  {
   "cell_type": "markdown",
   "id": "a83d6613",
   "metadata": {},
   "source": [
    "### take sample slice of recording"
   ]
  },
  {
   "cell_type": "code",
   "execution_count": null,
   "id": "a234bd20",
   "metadata": {
    "scrolled": true
   },
   "outputs": [],
   "source": [
    "fs = recording.get_sampling_frequency()\n",
    "slice_dur = 300\n",
    "recording_sub = recording.frame_slice(\n",
    "    start_frame=0 * fs,\n",
    "    end_frame=slice_dur * fs,\n",
    ")\n",
    "\n",
    "recording_saved = recording_sub.save(folder=\"data/slice\")\n",
    "recording_loaded = si.load_extractor(\"data/slice/\")"
   ]
  },
  {
   "cell_type": "markdown",
   "id": "05c176d4",
   "metadata": {},
   "source": [
    "### visualize recording"
   ]
  },
  {
   "cell_type": "code",
   "execution_count": null,
   "id": "10e970b7",
   "metadata": {
    "scrolled": true
   },
   "outputs": [],
   "source": [
    "raw_plot = widgets.plot_timeseries(\n",
    "    recording_loaded,\n",
    "    backend=\"ipywidgets\",\n",
    ")"
   ]
  },
  {
   "cell_type": "markdown",
   "id": "1babd1d6",
   "metadata": {},
   "source": [
    "### run sorters"
   ]
  },
  {
   "cell_type": "code",
   "execution_count": null,
   "id": "d4a9d909",
   "metadata": {},
   "outputs": [],
   "source": [
    "docker_dict = dict(\n",
    "    # combinato=\"spikeinterface/combinato-base:latest\", # single channel\n",
    "    hdsort=\"spikeinterface/hdsort-compiled-base:latest\",\n",
    "    herdingspikes=\"spikeinterface/herdingspikes-base:latest\",\n",
    "    ironclust=\"spikeinterface/ironclust-compiled-base:latest\",\n",
    "    # kilosort=\"spikeinterface/kilosort-compiled-base:latest\", # requires GPU\n",
    "    # kilosort2=\"spikeinterface/kilosort2-compiled-base:latest\", # requires GPU\n",
    "    # kilosort2_5=\"spikeinterface/kilosort2_5-compiled-base:latest\", # requires GPU\n",
    "    # klusta=\"spikeinterface/klusta-base:latest\", # error in docker image\n",
    "    mountainsort4=\"spikeinterface/mountainsort4-base:latest\",\n",
    "    # pykilosort=\"spikeinterface/pykilosort-base:latest\", # requires GPU\n",
    "    spykingcircus=\"spikeinterface/spyking-circus-base:latest\",\n",
    "    tridesclous=\"spikeinterface/tridesclous-base:latest\",\n",
    "    waveclus=\"spikeinterface/waveclus-compiled-base:latest\",\n",
    "    # yass=\"spikeinterface/yass-base:latest\", # requires GPU\n",
    ")\n",
    "\n",
    "sorting_dict = dict()\n",
    "\n",
    "param_dict = {\n",
    "    sorter: sorters.get_default_sorter_params(sorter)\n",
    "    for sorter in sorters.available_sorters()\n",
    "}\n",
    "\n",
    "for sorter, image in tqdm(docker_dict.items()):\n",
    "    try:\n",
    "        filter_kwarg = dict(filter=False) if \"filter\" in param_dict[sorter] else dict()\n",
    "        sorting_dict[sorter] = sorters.run_sorter(\n",
    "            sorter,\n",
    "            recording_loaded,\n",
    "            docker_image=image,\n",
    "            output_folder=f\"data/sorted/{sorter}\",\n",
    "            **filter_kwarg,\n",
    "        )\n",
    "    except Exception as e:\n",
    "        print(f\"Sorting with {sorter} failed due to the following exception: {e}\")"
   ]
  },
  {
   "cell_type": "code",
   "execution_count": null,
   "id": "c31318ef",
   "metadata": {},
   "outputs": [],
   "source": []
  }
 ],
 "metadata": {
  "kernelspec": {
   "display_name": "research",
   "language": "python",
   "name": "research"
  },
  "language_info": {
   "codemirror_mode": {
    "name": "ipython",
    "version": 3
   },
   "file_extension": ".py",
   "mimetype": "text/x-python",
   "name": "python",
   "nbconvert_exporter": "python",
   "pygments_lexer": "ipython3",
   "version": "3.10.8"
  }
 },
 "nbformat": 4,
 "nbformat_minor": 5
}
